{
 "cells": [
  {
   "cell_type": "markdown",
   "id": "27affe59-f743-46e0-a9a6-5cb39731eafd",
   "metadata": {},
   "source": [
    "# Background:"
   ]
  },
  {
   "cell_type": "markdown",
   "id": "55565368-f701-4dfe-89ef-1527f9339bf1",
   "metadata": {},
   "source": [
    "Mizzare Corporation has collected data on customer satisfaction levels for two types of smart home devices: Smart Thermostats and Smart Lights. They want to determine if there's a significant association between the type of device purchased and the customer's satisfaction level."
   ]
  },
  {
   "cell_type": "code",
   "execution_count": 1,
   "id": "7531f401-0208-40ff-8cf7-8273dc10722c",
   "metadata": {},
   "outputs": [],
   "source": [
    "import seaborn as sns\n",
    "import pandas as pd\n",
    "import numpy as np\n",
    "from scipy.stats import chi2_contingency, chi2"
   ]
  },
  {
   "cell_type": "markdown",
   "id": "8333401d-b917-4628-9869-43e11f6bd768",
   "metadata": {},
   "source": [
    "# Load dataset"
   ]
  },
  {
   "cell_type": "code",
   "execution_count": 3,
   "id": "2530bcd3-2426-4a33-b359-273e65b8c458",
   "metadata": {},
   "outputs": [],
   "source": [
    "satisfaction_level = np.array([[50, 80, 60, 30, 20],\n",
    "                              [70, 100, 90, 50, 50]])"
   ]
  },
  {
   "cell_type": "code",
   "execution_count": 5,
   "id": "ad69f587-5f91-43db-ae9e-3f4bc4091635",
   "metadata": {},
   "outputs": [
    {
     "data": {
      "text/plain": [
       "array([[ 50,  80,  60,  30,  20],\n",
       "       [ 70, 100,  90,  50,  50]])"
      ]
     },
     "execution_count": 5,
     "metadata": {},
     "output_type": "execute_result"
    }
   ],
   "source": [
    "satisfaction_level"
   ]
  },
  {
   "cell_type": "markdown",
   "id": "03d6f19f-717c-46d2-ae73-cf29cdb63a7c",
   "metadata": {},
   "source": [
    "# 1.State the hypothesis"
   ]
  },
  {
   "cell_type": "markdown",
   "id": "90fb6dfe-971a-43d1-bd00-2d5a16801153",
   "metadata": {},
   "source": [
    "H0: There is no significant association between device type and satisfaction level."
   ]
  },
  {
   "cell_type": "markdown",
   "id": "bfdce81f-fbb6-46d7-ba77-8f8f61b6f273",
   "metadata": {},
   "source": [
    "H1: There is a significant association between device type and satisfaction level."
   ]
  },
  {
   "cell_type": "markdown",
   "id": "35c1acbb-d255-4143-b764-54e64e986dc4",
   "metadata": {},
   "source": [
    "# 2.Compute chi-square statistics"
   ]
  },
  {
   "cell_type": "code",
   "execution_count": 7,
   "id": "3e96d0c1-7f68-4322-a4d6-bf07ae599e16",
   "metadata": {},
   "outputs": [],
   "source": [
    "chi2_stat, p_value, dof, expected = chi2_contingency(satisfaction_level)"
   ]
  },
  {
   "cell_type": "code",
   "execution_count": 9,
   "id": "37687cf9-161e-4e18-880e-ed5317d95979",
   "metadata": {},
   "outputs": [
    {
     "name": "stdout",
     "output_type": "stream",
     "text": [
      "Chi-Square Statistic: 5.638227513227513\n",
      "P-Value: 0.22784371130697179\n"
     ]
    }
   ],
   "source": [
    "print(f\"Chi-Square Statistic: {chi2_stat}\")\n",
    "print(f\"P-Value: {p_value}\")"
   ]
  },
  {
   "cell_type": "code",
   "execution_count": 11,
   "id": "984d4d85-0b2e-4654-a789-f5f161583b8b",
   "metadata": {},
   "outputs": [],
   "source": [
    "alpha=0.05"
   ]
  },
  {
   "cell_type": "markdown",
   "id": "83a1184e-6311-4866-8ade-3b4b0264fec6",
   "metadata": {},
   "source": [
    "# 3.Determine the critical value"
   ]
  },
  {
   "cell_type": "code",
   "execution_count": 13,
   "id": "6965aa38-83a3-4452-b3b7-eed7f62801bb",
   "metadata": {},
   "outputs": [
    {
     "name": "stdout",
     "output_type": "stream",
     "text": [
      "Critical Value: 9.487729036781154\n"
     ]
    }
   ],
   "source": [
    "critical_value = chi2.ppf(1 - alpha, dof)\n",
    "print(f\"Critical Value: {critical_value}\")"
   ]
  },
  {
   "cell_type": "markdown",
   "id": "077dc125-1b18-46c9-9bba-af1d37066a8f",
   "metadata": {},
   "source": [
    "# 4.Make a decision"
   ]
  },
  {
   "cell_type": "code",
   "execution_count": 15,
   "id": "c7a9b7fb-f390-4a72-8ffe-8de0b46591bf",
   "metadata": {},
   "outputs": [
    {
     "name": "stdout",
     "output_type": "stream",
     "text": [
      "Accept the H0 i.e; No significant association between device type and satisfaction level.\n"
     ]
    }
   ],
   "source": [
    "if chi2_stat > critical_value:\n",
    "    print(\"Reject the H0 i.e; Significant association between device type and satisfaction level.\")\n",
    "else:\n",
    "    print(\"Accept the H0 i.e; No significant association between device type and satisfaction level.\")\n"
   ]
  }
 ],
 "metadata": {
  "kernelspec": {
   "display_name": "Python 3 (ipykernel)",
   "language": "python",
   "name": "python3"
  },
  "language_info": {
   "codemirror_mode": {
    "name": "ipython",
    "version": 3
   },
   "file_extension": ".py",
   "mimetype": "text/x-python",
   "name": "python",
   "nbconvert_exporter": "python",
   "pygments_lexer": "ipython3",
   "version": "3.12.4"
  }
 },
 "nbformat": 4,
 "nbformat_minor": 5
}
